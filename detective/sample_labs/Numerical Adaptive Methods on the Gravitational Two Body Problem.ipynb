{
 "cells": [
  {
   "cell_type": "markdown",
   "metadata": {},
   "source": [
    "# Numerical Adaptive Methods on the Gravitational Two Body Problem"
   ]
  },
  {
   "cell_type": "markdown",
   "metadata": {},
   "source": [
    "### Sebastián Gil, UBC "
   ]
  },
  {
   "cell_type": "markdown",
   "metadata": {},
   "source": [
    "## Introduction "
   ]
  },
  {
   "cell_type": "markdown",
   "metadata": {},
   "source": [
    "![twobody](https://www.worldatlas.com/r/w728-h425-c728x425/upload/4c/55/b8/untitled-design-163.jpg)\n",
    "\n",
    "The gravitational two-body problem and the solution thereof are an essential part of an education in astrophysics. It consists of two-point masses interacting via a central force. Historically, its solution motivated the Newotnian paradigm of classical mechanics. Given the force for Newtonian Gravitation\n",
    "\n",
    "$$\n",
    "F_N = -G\\frac{Mm}{\\vec{r}^2}\n",
    "$$\n",
    "\n",
    "begin by taking the limit in which $m << M$. By application of Newton's Second Law, one gets the equation of motion\n",
    "\n",
    "$$\n",
    "m\\frac{d^2 \\vec{r}}{dt^2} = -\\frac{GMm}{r^2}\\frac{\\vec{r}}{r} \n",
    "$$\n",
    "\n",
    "Without loss of generality, take $z=0$ and constrain the value of the particles' motion $\\vec{r}$ to be some coordinates $(X,Y)$"
   ]
  },
  {
   "cell_type": "markdown",
   "metadata": {},
   "source": [
    "## Characteristic Length and Time Scales"
   ]
  },
  {
   "cell_type": "markdown",
   "metadata": {},
   "source": [
    "Identify $t$ as the independent variable with $X$and $Y$ as dependent variables. Then define the following relations\n",
    "\n",
    "\\begin{eqnarray}\n",
    "X &=& xL \\\\\n",
    "Y &=& yL \\\\\n",
    "t &=& \\tau T\n",
    "\\end{eqnarray}\n",
    "\n",
    "Now constrain motion to the plane so that \n",
    "\n",
    "\\begin{eqnarray}\n",
    "r^2 &=& X^2 + Y^2 \\\\\n",
    "r &=& \\sqrt{X^2 + Y^2}\n",
    "\\end{eqnarray}\n",
    "\n",
    "Then substituting the values from the characteristic length,\n",
    "\n",
    "\\begin{eqnarray}\n",
    "r &=& \\sqrt{(xL)^2+(yL)^2} \\\\\n",
    "r &=& L \\sqrt{X^2 + L^2}\n",
    "\\end{eqnarray}\n",
    "\n",
    "Now the equation of motion can be rewritten in vector notation as\n",
    "\n",
    "\\begin{equation}\n",
    "m\\frac{d^2<xL,yL>}{d(\\tau T)^2} = -\\frac{GMm <xL,yL>}{[(xL)^2 + (yL)^2]^{3/2}}\n",
    "\\end{equation}\n",
    "\n",
    "Reduce and simplify\n",
    "\n",
    "\\begin{eqnarray}\n",
    "\\frac{mL}{T^2}\\frac{d^2<x,y>}{d\\tau^2}&=&-\\frac{GMmL<x,y>}{[L^2(x^2 + y^2)]^{3/2}}\\\\\n",
    "\\frac{d^2<x,y>}{d\\tau^2}&=&\\frac{-T^2}{mL}\\frac{GMmL<x,y>}{L^3(x^2+y^2)^{3/2}}\\\\\n",
    "\\frac{d^2<x,y>}{d\\tau^2}&=&\\frac{-GMT^2}{L^3}\\frac{<x,y>}{(x^2+y^2)^{3/2}}\\\\\n",
    "\\end{eqnarray}\n",
    "\n",
    "Now define the quantity\n",
    "\n",
    "$$\n",
    "\\gamma = \\frac{GMT^2}{L^3}\n",
    "$$\n",
    "\n",
    "which is dimensionless. Thus, one may rewrite the problem in natural units via the equations of motion\n",
    "\n",
    "\\begin{eqnarray}\n",
    "\\frac{d^2x}{d\\tau^2} &=& -\\gamma\\frac{x}{r^3} \\\\\n",
    "\\frac{d^2y}{d\\tau^2} &=& -\\gamma\\frac{y}{r^3}\n",
    "\\end{eqnarray}\n",
    "\n",
    "For the remainder of the numerical experiment, we will work with $\\gamma = 1$"
   ]
  },
  {
   "cell_type": "markdown",
   "metadata": {},
   "source": [
    "## Reduce the Order of the Equations "
   ]
  },
  {
   "cell_type": "markdown",
   "metadata": {},
   "source": [
    "In order to solve the above system numerically, it is necessary to reduce the order of the differential equations. Begin by writing\n",
    "\n",
    "\\begin{equation}\n",
    "\\frac{d^2x}{d\\tau^2} + \\frac{x}{r^3} = 0\n",
    "\\end{equation}\n",
    "\n",
    "and define the functions $\\phi_1(\\tau) = x(\\tau)$ and $\\phi_2(\\tau) = x'(\\tau)$ Then differentiate both sides of each equation:\n",
    "\n",
    "\\begin{equation}\n",
    "\\phi_1'(\\tau) = x'(\\tau) = \\phi_2(\\tau)\n",
    "\\end{equation}\n",
    "\n",
    "and\n",
    "\n",
    "\\begin{eqnarray}\n",
    "\\phi_2'(\\tau) &=& x''(\\tau) \\\\\n",
    "&=& -\\frac{1}{r^3}x(\\tau)\\\\\n",
    "&=& -\\frac{1}{r^3}\\phi_1(\\tau)\n",
    "\\end{eqnarray}\n",
    "\n",
    "The problem is thereby reduced to a system of two first order equations:\n",
    "\n",
    "\\begin{eqnarray}\n",
    "\\phi_1'(\\tau) &=& \\phi_2(\\tau) \\\\\n",
    "\\phi_2'(\\tau) &=& -\\frac{1}{r^3}\\phi_1(\\tau)\n",
    "\\end{eqnarray}\n",
    "\n",
    "Consider now the equation\n",
    "\n",
    "\\begin{equation}\n",
    "\\frac{d^2y}{d\\tau^2} + \\frac{y}{r^3} = 0\n",
    "\\end{equation}\n",
    "\n",
    "Define also $\\psi_1(\\tau) = y(\\tau)$ and $\\psi_2(\\tau) = y'(\\tau)$. Then, by the exact same logic as above, another system of equations is obtained:\n",
    "\n",
    "\\begin{eqnarray}\n",
    "\\psi_1'(\\tau) &=& \\psi_2(\\tau) \\\\\n",
    "\\psi_2'(\\tau) &=& -\\frac{1}{r^3}\\psi_1(\\tau)\n",
    "\\end{eqnarray}\n",
    "\n",
    "To represent the notation in something that is more familiar to kinematics, identify the vectors $\\vec{r} = <\\phi_1(\\tau),\\psi_1(\\tau)>$ and $\\vec{v} = <\\phi_2(\\tau),\\psi_2(\\tau)>$. This finally defines the system of equations to be integrated numerically:\n",
    "\n",
    "\\begin{eqnarray}\n",
    "x'(\\tau) &=& v_x(\\tau) \\\\\n",
    "y'(\\tau) &=& v_y(\\tau) \\\\\n",
    "v_x'(\\tau) &=& -\\frac{1}{r^3}x(\\tau) \\\\\n",
    "v_y'(\\tau) &=& -\\frac{1}{r^3}y(\\tau)\n",
    "\\end{eqnarray}\n",
    "\n",
    "subject to the constraint $r(\\tau) = \\sqrt{x(\\tau)^2 + y(\\tau)^2}$"
   ]
  },
  {
   "cell_type": "markdown",
   "metadata": {},
   "source": [
    "## Implementation of Code"
   ]
  },
  {
   "cell_type": "markdown",
   "metadata": {},
   "source": [
    "In what follows, the system of differential equations will be solved under three numerical paradigms:\n",
    "\n",
    "* the Euler method\n",
    "* the 4th order Runge-Kutta Method (RK4)\n",
    "* RK4 with adaptive step-size"
   ]
  },
  {
   "cell_type": "code",
   "execution_count": 2,
   "metadata": {
    "collapsed": true
   },
   "outputs": [],
   "source": [
    "#import modules\n",
    "from numpy import array,arange,asarray,zeros\n",
    "from matplotlib.pyplot import plot,xlabel,ylabel,title,show\n",
    "%matplotlib inline"
   ]
  },
  {
   "cell_type": "code",
   "execution_count": 3,
   "metadata": {
    "collapsed": true
   },
   "outputs": [],
   "source": [
    "# Set interval to compute time\n",
    "a = 0.\n",
    "b = 1.\n",
    "# Set initial conditions of the particle\n",
    "x_0 = 1./4\n",
    "y_0 = 0.\n",
    "vx_0 = 0.\n",
    "vy_0 = 1"
   ]
  },
  {
   "cell_type": "code",
   "execution_count": 4,
   "metadata": {
    "collapsed": true
   },
   "outputs": [],
   "source": [
    "# Assign initial conditions to the vector R\n",
    "R_0 = array([x_0,y_0,vx_0,vy_0])\n",
    "# Urgent: This value CANNOT be overwritten!"
   ]
  },
  {
   "cell_type": "code",
   "execution_count": 5,
   "metadata": {
    "collapsed": true
   },
   "outputs": [],
   "source": [
    "# define distance function\n",
    "def r3(x,y):\n",
    "    return (x**2 + y**2)**1.5"
   ]
  },
  {
   "cell_type": "code",
   "execution_count": 6,
   "metadata": {
    "collapsed": true
   },
   "outputs": [],
   "source": [
    "# Define a function that evaluates the coupled\n",
    "# differential equations\n",
    "def eqns(R,t):\n",
    "    x = R[0]\n",
    "    y = R[1]\n",
    "    vx = R[2]\n",
    "    vy = R[3]\n",
    "    return array([vx,vy,(-1*x/r3(x,y)),(-1*y/r3(x,y))])"
   ]
  },
  {
   "cell_type": "markdown",
   "metadata": {},
   "source": [
    "In addition to solving the orbit of the particle, we will test how well the numerical methods conserve energy and angular momentum in the system. It will be necessary to define some quantities:\n",
    "\n",
    "* Energy of the particle per unit mass:\n",
    "\n",
    "\\begin{equation}\n",
    "\\frac{H}{m} = \\frac{T}{m} + \\frac{V}{m} = \\frac{1}{2}v^2 - \\frac{1}{r}\n",
    "\\end{equation}\n",
    "\n",
    "* Angular momentum of the particle per unit mass:\n",
    "\n",
    "\\begin{equation}\n",
    "\\frac{\\vec{l}}{m} = \\frac{\\vec{r} \\times \\vec{p}}{m} = \\vec{r} \\times \\vec{v} = (xv_y - yv_x)\\hat{k}\n",
    "\\end{equation}"
   ]
  },
  {
   "cell_type": "code",
   "execution_count": 7,
   "metadata": {
    "collapsed": true
   },
   "outputs": [],
   "source": [
    "# compute the initial energy and angular momentum\n",
    "H_0 = 0.5*(vx_0**2 + vy_0**2) - 1/(x_0**2 + y_0**2)**0.5\n",
    "L_0 = x_0*vy_0 - y_0*vx_0"
   ]
  },
  {
   "cell_type": "code",
   "execution_count": 8,
   "metadata": {},
   "outputs": [
    {
     "data": {
      "text/plain": [
       "-3.5"
      ]
     },
     "execution_count": 8,
     "metadata": {},
     "output_type": "execute_result"
    }
   ],
   "source": [
    "H_0"
   ]
  },
  {
   "cell_type": "code",
   "execution_count": 9,
   "metadata": {},
   "outputs": [
    {
     "data": {
      "text/plain": [
       "0.25"
      ]
     },
     "execution_count": 9,
     "metadata": {},
     "output_type": "execute_result"
    }
   ],
   "source": [
    "L_0"
   ]
  },
  {
   "cell_type": "markdown",
   "metadata": {},
   "source": [
    "### Euler Method "
   ]
  },
  {
   "cell_type": "code",
   "execution_count": 10,
   "metadata": {
    "collapsed": true
   },
   "outputs": [],
   "source": [
    "# Define the solver for the system\n",
    "# First input is a vector of dynamical quantities\n",
    "# Second input is the step-size\n",
    "def euler_soln(R,h):\n",
    "# Initialize counter\n",
    "    n = 0\n",
    "# Create lists for time, position, and velocity points\n",
    "# with the initial value\n",
    "    t_n = arange(a,b+h,h)\n",
    "    x_n = [R[0]]\n",
    "    y_n = [R[1]]\n",
    "    vx_n = [R[2]]\n",
    "    vy_n = [R[3]]\n",
    "    r_n = []\n",
    "# Compute distance\n",
    "    r3t = r3(R[0],R[1])\n",
    "    r_n.append(r3t)\n",
    "# Execute iterative methods\n",
    "    for t in t_n:\n",
    "# Add values to arrays\n",
    "        x_n.append(R[0])\n",
    "        y_n.append(R[1])\n",
    "        vx_n.append(R[2])\n",
    "        vy_n.append(R[3])\n",
    "        r_n.append(r3t)\n",
    "# Update values from coupled differential equations\n",
    "        R += h*eqns(R,t)\n",
    "# Increase function call counter\n",
    "        n += 1\n",
    "# Combine all results into a list of arrays\n",
    "    orbit = [t_n,asarray(x_n),asarray(y_n),asarray(vx_n),asarray(vy_n),asarray(r_n),n]\n",
    "    return orbit"
   ]
  },
  {
   "cell_type": "markdown",
   "metadata": {
    "collapsed": true
   },
   "source": [
    "### Runge-Kutta 4th Order "
   ]
  },
  {
   "cell_type": "code",
   "execution_count": 11,
   "metadata": {
    "collapsed": true
   },
   "outputs": [],
   "source": [
    "# Define the solver for the system\n",
    "# First input is a vector of dynamical quantities\n",
    "# Second input is the step-size\n",
    "def rk4_soln(R,h):\n",
    "# Initialize counter\n",
    "    n = 0\n",
    "# Create lists for time, position, and velocity points\n",
    "# with the initial value\n",
    "    t_n = arange(a,b+h,h)\n",
    "    x_n = [R[0]]\n",
    "    y_n = [R[1]]\n",
    "    vx_n = [R[2]]\n",
    "    vy_n = [R[3]]\n",
    "    r_n = []\n",
    "# Compute distance\n",
    "    r3t = r3(R[0],R[1])\n",
    "    r_n.append(r3t)\n",
    "# Execute iterative methods\n",
    "    for t in t_n:\n",
    "# Add values to arrays\n",
    "        x_n.append(R[0])\n",
    "        y_n.append(R[1])\n",
    "        vx_n.append(R[2])\n",
    "        vy_n.append(R[3])\n",
    "        r_n.append(r3t)\n",
    "# Compute Runge-Kutta coefficients\n",
    "        k1 = h*eqns(R,t)\n",
    "        k2 = h*eqns(R + 0.5*k1, t + 0.5*h)\n",
    "        k3 = h*eqns(R + 0.5*k2, t + 0.5*h)\n",
    "        k4 = h*eqns(R + k3, t + h)\n",
    "        R += (k1 + 2*k2 + 2*k3 +k4)/6\n",
    "# Increase function call counter\n",
    "        n += 1\n",
    "# Combine all results into a list of arrays\n",
    "    orbit = [t_n,asarray(x_n),asarray(y_n),asarray(vx_n),asarray(vy_n),asarray(r_n),n]\n",
    "    return orbit"
   ]
  },
  {
   "cell_type": "markdown",
   "metadata": {},
   "source": [
    "### Runge-Kutta with Adaptive Step-Size "
   ]
  },
  {
   "cell_type": "code",
   "execution_count": 12,
   "metadata": {
    "collapsed": true
   },
   "outputs": [],
   "source": [
    "# Define a function that computes the rk4 method for a single time step\n",
    "def rk4step(R,eqns,h):\n",
    "    k1 = h*eqns(R,t)\n",
    "    k2 = h*eqns(R + 0.5*k1, t + 0.5*h)\n",
    "    k3 = h*eqns(R + 0.5*k2, t + 0.5*h)\n",
    "    k4 = h*eqns(R + k3, t + h)\n",
    "    Rout = R + (k1 + 2*k2 + 2*k3 + k4)/6\n",
    "    return Rout\n",
    "# Define the solver for the system\n",
    "# First input is a vector of dynamical quantities\n",
    "# Second input is the step-size\n",
    "# Third input is the tolerance parameter\n",
    "def rk4ad(R,h):\n",
    "# Create lists for time, position, and velocity points\n",
    "    t_n = arange(a,b+h,h)\n",
    "    x_n = []\n",
    "    vx_n = []\n",
    "    y_n = []\n",
    "    vy_n = []\n",
    "    r_n = []\n",
    "# Assign initial conditions from input\n",
    "    x = R[0]\n",
    "    y = R[1]\n",
    "    vx = R[2]    \n",
    "    vy = R[3]\n",
    "# Compute distance\n",
    "    r3t = r3(x,y)\n",
    "# Initial time and counter\n",
    "    t = 0\n",
    "    n = 0\n",
    "# Initialize while loop\n",
    "    while t <= b:\n",
    "# Initial condition\n",
    "        R1 = r4step(R,eqns,h)\n",
    "        n += 4\n",
    "# First iteration\n",
    "        R1 = rk4step(R1,eqns,h)\n",
    "        n += 4\n",
    "        R2 = rk4step(R,eqns,2*h)\n",
    "        counter += 4\n",
    "# Mysterious mathemagics here...\n",
    "        epsi = ((R1[0]-R2[0])**2 + (R1[1]-R2[1])**2)**0.5\n",
    "        rho  = 30.0*d*h/epsi\n",
    "# Implement condtional testing\n",
    "        if rho > 1: #increase step-size and move to next time step\n",
    "            h = h*rho**0.25\n",
    "            t_n.append(t)\n",
    "            x_n.append(R[0])\n",
    "            y_n.append(R[1])\n",
    "            vx_n.append(R[2])\n",
    "            vy_n.append(R[3])\n",
    "            t += 2*h\n",
    "            R = R1\n",
    "        else: #try again with a smaller step size\n",
    "            h = h*rho**0.25\n",
    "    return t_n,x_n,vx_n,y_n,vy_n"
   ]
  },
  {
   "cell_type": "markdown",
   "metadata": {},
   "source": [
    "### Conservation Laws "
   ]
  },
  {
   "cell_type": "code",
   "execution_count": 13,
   "metadata": {
    "collapsed": true
   },
   "outputs": [],
   "source": [
    "# Define a function to compute the Hamiltonian\n",
    "def hamiltonian(R):\n",
    "    return (0.5*(R[2]**2 + R[3]**2)**0.5 - 1/(R[0]**2 + R[1]**2)**0.5)\n",
    "# Define a function to complete the angular momentum\n",
    "def angular(R):\n",
    "    return (R[0]*R[3] - R[1]*R[2])"
   ]
  },
  {
   "cell_type": "code",
   "execution_count": 14,
   "metadata": {},
   "outputs": [
    {
     "data": {
      "text/plain": [
       "-3.5"
      ]
     },
     "execution_count": 14,
     "metadata": {},
     "output_type": "execute_result"
    }
   ],
   "source": [
    "# test output\n",
    "hamiltonian(R_0)"
   ]
  },
  {
   "cell_type": "code",
   "execution_count": 15,
   "metadata": {},
   "outputs": [
    {
     "data": {
      "text/plain": [
       "0.25"
      ]
     },
     "execution_count": 15,
     "metadata": {},
     "output_type": "execute_result"
    }
   ],
   "source": [
    "angular(R_0)"
   ]
  },
  {
   "cell_type": "markdown",
   "metadata": {},
   "source": [
    "## Expectations"
   ]
  },
  {
   "cell_type": "markdown",
   "metadata": {},
   "source": [
    " The problem at hand is a two body gravitational problem in which the mass for which we are solving the system is much smaller than the mass it is being attracted to. Hence, based on Kepler’s Laws, we expect to see the trajectory of the particle to follow a closed ellipse. Moreover, from conservation laws we also expect that the total energy of the system and its angular momentum are conserved at each point in time. This behavior is obtained under the premise of analyticity—the idea that the time step for evaluation is infinitesimally small. A computer is unable to use infinitesimals, but we expect that as the step size gets smaller, the trajectory of the particle will more closely resemble an ellipse while the energy and angular momentum will vary less from the initial values."
   ]
  },
  {
   "cell_type": "markdown",
   "metadata": {},
   "source": [
    "In the case of the Euler method, the finite difference is obtained from a straight line approximation. This means that at larger step sizes, error will accumulate rapidly to the point that the trajectory of the body will fail to be a closed ellipse. Moreover, the conserved quantities will vary significantly due to the fact that the particle’s position is being approximated at discrete steps, which violates the time translational invariance and analyticity from which conservation laws are obtained. The first problem can be resolved by making the step size small enough that you get an $n$-sided polygon with sufficient sides that it resembles an ellipse. Making the step size smaller should also make the fluctuations in angular momentum and energy smaller, but will not be able to get rid of them completely. "
   ]
  },
  {
   "cell_type": "markdown",
   "metadata": {},
   "source": [
    "The Runge-Kutta method will exhibit behavior similar to the Euler method because it is derived from it. In the case of the 4th order method, however, the finite difference is obtained from a polynomial approximation, which is bound to perform significantly better than a straight line approximation. Hence, much fewer data points will be needed to obtain a closed ellipse and have the conserved quantities approach towards convergence."
   ]
  },
  {
   "cell_type": "markdown",
   "metadata": {},
   "source": [
    "By using adaptive step size controls, it is possible to significantly reduce the number of computations needed in the Runge-Kutta method. As described in the implementation, the parameter $\\rho$ serves as a gauge to determine whether the trajectory of the particle varies significantly between $h$ and $2h$. If it finds that the error is small, it will increase the step size and evaluate at the next step. This results in “smooth” areas being evaluated with significantly less step sizes—greatly saving computation time when compared to fixed step sizes. On the other hand, if the error is very large, the time step will be made smaller and evaluated again. This will result in more precise iterations in the areas over which the trajectory varies significantly. In other words, the adaptive step size control has the advantage of picking the time steps such that more iterations are carried out at the points in time over which the system’s change in behavior is more pronounced."
   ]
  },
  {
   "cell_type": "markdown",
   "metadata": {},
   "source": [
    "## Results from Numerical Experiments "
   ]
  },
  {
   "cell_type": "markdown",
   "metadata": {},
   "source": [
    "Experiments are to be repeated at the following step-size values:\n",
    "1. $h = 10^{-2}$\n",
    "2. $h = 10^{-3}$\n",
    "3. $h = 10^{-4}$\n",
    "4. $h = 10^{-6}$"
   ]
  },
  {
   "cell_type": "markdown",
   "metadata": {},
   "source": [
    "### Euler Method "
   ]
  },
  {
   "cell_type": "markdown",
   "metadata": {},
   "source": [
    "#### Differential Equation Solution "
   ]
  },
  {
   "cell_type": "code",
   "execution_count": 16,
   "metadata": {
    "collapsed": true
   },
   "outputs": [],
   "source": [
    "R = array([x_0,y_0,vx_0,vy_0])\n",
    "first_euler = euler_soln(R,0.01)"
   ]
  },
  {
   "cell_type": "code",
   "execution_count": 17,
   "metadata": {},
   "outputs": [
    {
     "data": {
      "text/plain": [
       "True"
      ]
     },
     "execution_count": 17,
     "metadata": {},
     "output_type": "execute_result"
    }
   ],
   "source": [
    "# note that for this method the number of function calls is equal to the number of time steps\n",
    "first_euler[-1] == len(first_euler[0])"
   ]
  },
  {
   "cell_type": "code",
   "execution_count": 19,
   "metadata": {
    "collapsed": true
   },
   "outputs": [],
   "source": [
    "# compute remaining orbits for specified step-sizes\n",
    "R = array([x_0,y_0,vx_0,vy_0])\n",
    "second_euler = euler_soln(R,0.001)"
   ]
  },
  {
   "cell_type": "code",
   "execution_count": 21,
   "metadata": {
    "collapsed": true
   },
   "outputs": [],
   "source": [
    "R = array([x_0,y_0,vx_0,vy_0])\n",
    "third_euler = euler_soln(R,0.0001)"
   ]
  },
  {
   "cell_type": "code",
   "execution_count": 22,
   "metadata": {
    "collapsed": true
   },
   "outputs": [],
   "source": [
    "R = array([x_0,y_0,vx_0,vy_0])\n",
    "fourth_euler = euler_soln(R,0.000001)"
   ]
  },
  {
   "cell_type": "code",
   "execution_count": 23,
   "metadata": {},
   "outputs": [
    {
     "data": {
      "text/plain": [
       "[<matplotlib.lines.Line2D at 0x7fbe7c4c7f28>]"
      ]
     },
     "execution_count": 23,
     "metadata": {},
     "output_type": "execute_result"
    },
    {
     "data": {
      "image/png": "[encoded data removed]",
      "text/plain": [
       "<matplotlib.figure.Figure at 0x7fbe7ccf5c18>"
      ]
     },
     "metadata": {},
     "output_type": "display_data"
    }
   ],
   "source": [
    "plot(fourth_euler[1],fourth_euler[2])"
   ]
  },
  {
   "cell_type": "markdown",
   "metadata": {},
   "source": [
    "#### Conservation of Energy Test "
   ]
  },
  {
   "cell_type": "markdown",
   "metadata": {},
   "source": [
    "#### Conservation of Angular Momentum Test "
   ]
  },
  {
   "cell_type": "markdown",
   "metadata": {},
   "source": [
    "#### Length of Calculations "
   ]
  },
  {
   "cell_type": "markdown",
   "metadata": {},
   "source": [
    "#### Plotting Results "
   ]
  },
  {
   "cell_type": "code",
   "execution_count": 3,
   "metadata": {
    "collapsed": true
   },
   "outputs": [],
   "source": [
    "# begin with matplotlib and move on to other plotting libraries"
   ]
  },
  {
   "cell_type": "raw",
   "metadata": {},
   "source": [
    "-want plots to be side by side, like in pandas\n",
    "-use pandas for comparison?\n",
    "-install holoviews and seaborn (seaborn works in conjunction with pandas)\n",
    "-insall bokeh"
   ]
  },
  {
   "cell_type": "code",
   "execution_count": 1,
   "metadata": {
    "collapsed": true
   },
   "outputs": [],
   "source": [
    "import pandas"
   ]
  },
  {
   "cell_type": "raw",
   "metadata": {},
   "source": [
    "help(pandas)"
   ]
  },
  {
   "cell_type": "code",
   "execution_count": 4,
   "metadata": {},
   "outputs": [
    {
     "ename": "ImportError",
     "evalue": "No module named 'seaborn'",
     "output_type": "error",
     "traceback": [
      "\u001b[0;31m---------------------------------------------------------------------------\u001b[0m",
      "\u001b[0;31mImportError\u001b[0m                               Traceback (most recent call last)",
      "\u001b[0;32m<ipython-input-4-085c0287ecb5>\u001b[0m in \u001b[0;36m<module>\u001b[0;34m()\u001b[0m\n\u001b[0;32m----> 1\u001b[0;31m \u001b[0;32mimport\u001b[0m \u001b[0mseaborn\u001b[0m\u001b[0;34m\u001b[0m\u001b[0m\n\u001b[0m",
      "\u001b[0;31mImportError\u001b[0m: No module named 'seaborn'"
     ]
    }
   ],
   "source": [
    "import seaborn"
   ]
  },
  {
   "cell_type": "markdown",
   "metadata": {},
   "source": [
    "### RK4 "
   ]
  },
  {
   "cell_type": "markdown",
   "metadata": {},
   "source": [
    "#### Differntial Equation Solution "
   ]
  },
  {
   "cell_type": "markdown",
   "metadata": {},
   "source": [
    "#### Conservation of Energy Test "
   ]
  },
  {
   "cell_type": "markdown",
   "metadata": {},
   "source": [
    "#### Conservation of Angular Momentum Test "
   ]
  },
  {
   "cell_type": "markdown",
   "metadata": {},
   "source": [
    "#### Length of Calculations "
   ]
  },
  {
   "cell_type": "markdown",
   "metadata": {},
   "source": [
    "### RK4 Adapative "
   ]
  },
  {
   "cell_type": "markdown",
   "metadata": {},
   "source": [
    "#### Differntial Equation Solution "
   ]
  },
  {
   "cell_type": "markdown",
   "metadata": {},
   "source": [
    "#### Conservation of Energy Test "
   ]
  },
  {
   "cell_type": "markdown",
   "metadata": {},
   "source": [
    "#### Conservation of Angular Momentum Test "
   ]
  },
  {
   "cell_type": "markdown",
   "metadata": {},
   "source": [
    "#### Length of Calculations "
   ]
  },
  {
   "cell_type": "markdown",
   "metadata": {},
   "source": [
    "## Discussion "
   ]
  },
  {
   "cell_type": "markdown",
   "metadata": {},
   "source": [
    "### Euler Method "
   ]
  },
  {
   "cell_type": "markdown",
   "metadata": {},
   "source": [
    "As discussed in my expectations, the simulations ended up behaving exactly like I expected. Indeed, for the largest step size of 10-2, we find that the error in the approximation is so large that the trajectory fails to yield an ellipse. The main cause for this is that there are not enough data points to simulate the behavior of the system properly. When the order of h is reduced to 4, we already begin to observe a change in the trajectory yielding a circular motion, but it spirals out because the linear approximations of the Euler method prevent the trajectory to return to the initial position. It is only until an order of 6 is used in h that the ellipse finally closes, meaning that at this point we obtain the “n-sided polygon” that I mentioned above.\n",
    "\t\n",
    "   In terms of the energy and angular momentum of the system, neither quantity is conserved. It is interesting to note how for both quantities the change goes like a ladder of sorts evidencing regions where the error is constant before taking a further dip. The reason behind this is that the dips occur at the points at which the trajectory of the body is changing the most, whereas the places where the change in energy and angular momentum is constant denote the parts in the trajectory where the ellipse is smooth. Once h goes like 10-6, however, it is worth noting that these errors are of order 10-3 for the energy and 10-4 for the angular momentum. If the precision of the problem is not of tremendous importance, then the Euler method can be deemed to yield a reasonable estimate for the particle’s motion at this order of h."
   ]
  },
  {
   "cell_type": "markdown",
   "metadata": {},
   "source": [
    "### RK4 "
   ]
  },
  {
   "cell_type": "markdown",
   "metadata": {},
   "source": [
    "The main thing to notice this is that this method returns closed ellipses at $h = 10^{-3}$, which is three orders of magnitude smaller than the required value for the Euler method. This confirms my hypothesis that, because this method uses a polynomial approximation, the incidence of error is much less pronounced. This is further confirmed by the plots denoting the change in energy and angular momentum. Except for $h = 10^{-2}$, the order of the errors is significantly smaller than what was observed for the Euler method. Indeed, at $h = 10^{-4}$ the change in energy goes like $10^{-8}$ and the change in angular momentum goes like $10^{-11}$, which I deem to be negligible fluctuations for all practical applications. This method is by far more effective than the Euler method.\n",
    "\t\n",
    "   It is of interest to note that the energy plots for the runge-kutta exhibit dips at the same places in time that the Euler method did. This supplements the possibility that error is accumulated at the places in the body’s orbit where its trajectory changes the most. Unlike the Euler method, the changes in angular momentum are positive as opposed to negative. I do not fully understand why and don’t think that it’s a simple issue of the fact that the initial angular momentum is positive—otherwise the Euler method would show the same behavior. This would be an interesting avenue of further investigation."
   ]
  },
  {
   "cell_type": "markdown",
   "metadata": {},
   "source": [
    "### RK4 Adapative "
   ]
  },
  {
   "cell_type": "markdown",
   "metadata": {},
   "source": [
    "It’s impressive to notice how with delta 1e-2 you almost get a closed ellipse. The reason why I rejected this value of delta is because the initial points where the particle is at $x = 0.25$ prevent fitting the points to an ellipse. Decreasing the order of delta to 1e-3 already yields better results and at 1e-4 the closed ellipse is definite. Moreover, from the scatter plots we can discern that this adaptive method indeed does compute more iterations at the places where the trajectory is changing the most, which completely satisfies my initial expectations for this method."
   ]
  },
  {
   "cell_type": "markdown",
   "metadata": {},
   "source": [
    "### Number of Iterations "
   ]
  },
  {
   "cell_type": "markdown",
   "metadata": {},
   "source": [
    "Because the runge-kutta needs to evaluate f(R,t) four times, it results in more computations at the same order as the  Euler method. However, it yields a closed ellipse at a significantly smaller order than the Euler method, so this method is undoubtedly much faster. The magic truly happens when the adaptive method is implemented, however. The f(R,t) function is still called four times per iteration, but the rho criterion that allows the while loop to adjust at which point of t the function is next to be evaluated makes a much better use of  computation time. Indeed, this adaptive method tells the runge-kutta method to “run ahead” where the function is smooth and to “tread carefully” where there is much change in the system’s behavior.\n",
    "\n",
    "This, of course, is evidenced in the scatter plot, where the density of points is higher at the extremes of the ellipse. Indeed, the best result for the adaptive method only required 1032 function calls, while the runge-kuta method needed $4000004$, which is about 103 times as many steps! The caveat here is that I haven’t looked at how the adaptive method computed energy and angular momentum. I do believe, however, that because the adaptive method has more iterations at the regions where the trajectory changes the most—the places where the dips in the energy and angular momentum plots come from for the rk4 and euler method—it should still be just as good if not better than the regular rk4 method. Extending this method to compute energy and angular momentum is almost trivial, and would be more than worth to explore.\n"
   ]
  },
  {
   "cell_type": "markdown",
   "metadata": {},
   "source": [
    "### Improve Presentation\n",
    "Remember the Anaconda Webinar\n",
    "\n",
    "1. Data exploration\n",
    "\tJupyter + Pandas\n",
    " \t\"you have some sense of what's in the data\"\n",
    "\tdf = pd.read_csv('')\n",
    "\tdf.head()\n",
    "\tdf[['','']].groupby[''].aggregate(np.sum)\n",
    "\tpandas calls matplotlib as a sub-routine\n",
    "\tholoview: hv.Curve(variable), which uses bokeh for dependencies\n",
    "\tlike in bqplot, you can overlay after the fact with text and such\n",
    "\tholoviews also allows to change input variables via selection tools\n",
    "\tseaborn/bokeh can give you a grid of plots comparing all variables \t\tagainst each other\n",
    "\tinteracts save on recomputing time\n",
    "\tso many notebooks, incredibly huge data sets too!\n",
    "\tdatashading --> massive datasets 10**9 points\n",
    "\t\tplot phone data as an image updated w.r.t. resolution\n",
    "2. Report generation\n",
    "\tEssential to learn how to convert plots back into narrative\n",
    "\tplt.savefig(\"\".pdf)\n",
    "\tyou can use holoviews to remove interact layers and force png,svg, \t\tpdf files\n",
    "\tbut you can also output HTML directly!!! (great plug for site!)\n",
    "\tthis output a page, which you can embed within an existing page or \t\tblog :o)\n",
    "\talternatively, you can download the notebook as .html, or turn \t\tinto a presentation with RISE\n",
    "\tstatic dataset <==> static page"
   ]
  },
  {
   "cell_type": "markdown",
   "metadata": {},
   "source": [
    "### Possibilities for Extension\n",
    "\n",
    "1. Build [phase space portraits](https://en.wikipedia.org/wiki/Phase_space) at convergence\n",
    "2. Test orbits at different initial conditions\n",
    "3. Study [chaotic behavior](https://en.wikipedia.org/wiki/Chaos_theory#Sensitivity_to_initial_conditions) from tuning into convergence\n",
    "4. Compare results vs. those from the built-in `scipy.odeint` method\n",
    "5. Compile functions into a module"
   ]
  },
  {
   "cell_type": "code",
   "execution_count": null,
   "metadata": {
    "collapsed": true
   },
   "outputs": [],
   "source": []
  }
 ],
 "metadata": {
  "kernelspec": {
   "display_name": "Python 3",
   "language": "python",
   "name": "python3"
  },
  "language_info": {
   "codemirror_mode": {
    "name": "ipython",
    "version": 3
   },
   "file_extension": ".py",
   "mimetype": "text/x-python",
   "name": "python",
   "nbconvert_exporter": "python",
   "pygments_lexer": "ipython3",
   "version": "3.5.2"
  }
 },
 "nbformat": 4,
 "nbformat_minor": 2
}
